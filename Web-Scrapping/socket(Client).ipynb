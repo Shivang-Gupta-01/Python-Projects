{
 "cells": [
  {
   "cell_type": "code",
   "execution_count": null,
   "metadata": {},
   "outputs": [
    {
     "name": "stdin",
     "output_type": "stream",
     "text": [
      "type message hello\n"
     ]
    },
    {
     "name": "stdout",
     "output_type": "stream",
     "text": [
      "Aparna Says: whatsupp\n"
     ]
    },
    {
     "name": "stdin",
     "output_type": "stream",
     "text": [
      "type message how are you doing\n"
     ]
    }
   ],
   "source": [
    "import socket\n",
    "port = 3000\n",
    "CHUNK = 65535\n",
    "s = socket.socket(socket.AF_INET, socket.SOCK_DGRAM)# creates a socket object\n",
    "\n",
    "# instead of explicitly binding the socket, I will let the OS do it\n",
    "# ephemeral ports\n",
    "# Os will do this for us\n",
    "hostname = '127.0.0.1'\n",
    "\n",
    "while True:\n",
    "    s.connect((hostname,port)) \n",
    "    message = input(\"type message\")\n",
    "    data = message.encode('ascii')\n",
    "    s.send(data)\n",
    "    # DATA recieved\n",
    "    data = s.recv(CHUNK)\n",
    "    text = data.decode('ascii')\n",
    "    print(f\"Aparna Says: {text}\")\n",
    "    "
   ]
  },
  {
   "cell_type": "code",
   "execution_count": null,
   "metadata": {},
   "outputs": [],
   "source": []
  }
 ],
 "metadata": {
  "kernelspec": {
   "display_name": "Python 3",
   "language": "python",
   "name": "python3"
  },
  "language_info": {
   "codemirror_mode": {
    "name": "ipython",
    "version": 3
   },
   "file_extension": ".py",
   "mimetype": "text/x-python",
   "name": "python",
   "nbconvert_exporter": "python",
   "pygments_lexer": "ipython3",
   "version": "3.7.1"
  }
 },
 "nbformat": 4,
 "nbformat_minor": 4
}
