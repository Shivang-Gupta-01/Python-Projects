{
 "cells": [
  {
   "cell_type": "code",
   "execution_count": 3,
   "metadata": {},
   "outputs": [],
   "source": [
    "import socket"
   ]
  },
  {
   "cell_type": "code",
   "execution_count": 4,
   "metadata": {},
   "outputs": [],
   "source": [
    "port = 3000\n",
    "CHUNK = 65535"
   ]
  },
  {
   "cell_type": "code",
   "execution_count": 5,
   "metadata": {},
   "outputs": [
    {
     "name": "stdout",
     "output_type": "stream",
     "text": [
      "<socket.socket fd=1184, family=AddressFamily.AF_INET, type=SocketKind.SOCK_DGRAM, proto=0>\n"
     ]
    }
   ],
   "source": [
    "s = socket.socket(socket.AF_INET,socket.SOCK_DGRAM) # creates a socket object\n",
    "# AF_NET - a family of ipv4 ip address\n",
    "#socket.socket(family,type)\n",
    "print(s)"
   ]
  },
  {
   "cell_type": "code",
   "execution_count": 6,
   "metadata": {},
   "outputs": [],
   "source": [
    "#some ip address that server will listen to when message comes\n",
    "hostname = '127.0.0.1'\n",
    "s.bind((hostname,port)) # biinds socket with the hostname and portt 3000"
   ]
  },
  {
   "cell_type": "code",
   "execution_count": 7,
   "metadata": {},
   "outputs": [
    {
     "name": "stdout",
     "output_type": "stream",
     "text": [
      "server is live on ('127.0.0.1', 3000)\n"
     ]
    }
   ],
   "source": [
    "print(f\"server is live on {s.getsockname()}\")"
   ]
  },
  {
   "cell_type": "code",
   "execution_count": null,
   "metadata": {},
   "outputs": [],
   "source": [
    "# run this erver infiintely until I stop manually\n",
    "while True:\n",
    "    data,clientAdd = s.recvfrom(CHUNK)\n",
    "    message = data.decode('ascii') # data by default travels in bytes\n",
    "    print(f\"Shivang at {clientAdd} Says: {message}\")\n",
    "    message_send = input(\"Reply: \")\n",
    "    data = message_send.encode('ascii')\n",
    "    # send data to ip which has sent me the data\n",
    "    s.sendto(data,clientAdd)\n",
    "    "
   ]
  },
  {
   "cell_type": "code",
   "execution_count": null,
   "metadata": {},
   "outputs": [],
   "source": []
  }
 ],
 "metadata": {
  "kernelspec": {
   "display_name": "Python 3",
   "language": "python",
   "name": "python3"
  },
  "language_info": {
   "codemirror_mode": {
    "name": "ipython",
    "version": 3
   },
   "file_extension": ".py",
   "mimetype": "text/x-python",
   "name": "python",
   "nbconvert_exporter": "python",
   "pygments_lexer": "ipython3",
   "version": "3.7.1"
  }
 },
 "nbformat": 4,
 "nbformat_minor": 4
}
